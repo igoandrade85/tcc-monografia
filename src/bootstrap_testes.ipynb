{
 "cells": [
  {
   "cell_type": "code",
   "execution_count": 25,
   "id": "889a8fb5-da3a-4a80-b517-b1876a5f3601",
   "metadata": {},
   "outputs": [],
   "source": [
    "from scipy.stats import bootstrap\n",
    "import scipy.stats as st\n",
    "import numpy as np\n",
    "import matplotlib.pyplot as plt\n",
    "import random\n",
    "\n",
    "plt.style.use('seaborn')"
   ]
  },
  {
   "cell_type": "code",
   "execution_count": 70,
   "id": "67fb093a-dc5b-465d-9974-46c08220ea56",
   "metadata": {},
   "outputs": [],
   "source": []
  },
  {
   "cell_type": "code",
   "execution_count": 71,
   "id": "ed38bdfe-26a5-443d-aaf3-cad8f18916fb",
   "metadata": {},
   "outputs": [],
   "source": [
    "#convert array to sequence\n",
    "data = (data,)"
   ]
  },
  {
   "cell_type": "code",
   "execution_count": 72,
   "id": "cd7174ea-9b69-43be-81ec-e099d2941fe5",
   "metadata": {},
   "outputs": [],
   "source": [
    "#calculate 95% bootstrapped confidence interval for median\n",
    "bootstrap_ci = bootstrap(data, np.median, confidence_level=0.95,\n",
    "                         random_state=1, method='percentile')"
   ]
  },
  {
   "cell_type": "code",
   "execution_count": 73,
   "id": "074f9aad-0161-484d-b4ba-f3d4c77e9ad0",
   "metadata": {},
   "outputs": [
    {
     "name": "stdout",
     "output_type": "stream",
     "text": [
      "ConfidenceInterval(low=10.0, high=20.0)\n"
     ]
    }
   ],
   "source": [
    "#view 95% boostrapped confidence interval\n",
    "print(bootstrap_ci.confidence_interval)"
   ]
  },
  {
   "cell_type": "code",
   "execution_count": 74,
   "id": "2ac5317c-b31c-4214-953c-b444053ddb9f",
   "metadata": {},
   "outputs": [
    {
     "name": "stdout",
     "output_type": "stream",
     "text": [
      "ConfidenceInterval(low=3.8757727133379314, high=6.220583477868773)\n"
     ]
    }
   ],
   "source": [
    "#calculate 95% bootstrapped confidence interval for median\n",
    "bootstrap_ci = bootstrap(data, np.std, confidence_level=0.95,\n",
    "                         random_state=1, method='basic')\n",
    "\n",
    "#view 95% boostrapped confidence interval\n",
    "print(bootstrap_ci.confidence_interval)"
   ]
  },
  {
   "cell_type": "code",
   "execution_count": 85,
   "id": "9967e10b-5ba0-47ae-918a-a5450d0b7298",
   "metadata": {},
   "outputs": [
    {
     "name": "stdout",
     "output_type": "stream",
     "text": [
      "15.33646\n",
      "[12.93333333 17.66833333]\n",
      "ConfidenceInterval(low=12.933333333333334, high=17.733333333333334)\n"
     ]
    }
   ],
   "source": [
    "data = [7, 9, 10, 10, 12, 14, 15, 16, 16, 17, 19, 20, 21, 21, 23]\n",
    "\n",
    "\n",
    "\n",
    "sample_mean = []\n",
    "data = np.array(data)\n",
    "for i in range(10000):\n",
    "    y = np.random.choice(data, len(data))\n",
    "    avg = np.mean(y)\n",
    "    sample_mean.append(avg)\n",
    "    \n",
    "sample_mean = np.array(sample_mean)\n",
    "print(np.mean(sample_mean))\n",
    "\n",
    "print(np.quantile(sample_mean, [0.025, 0.975]))\n",
    "\n",
    "data = (data,)\n",
    "\n",
    "#calculate 95% bootstrapped confidence interval for median\n",
    "bootstrap_ci = bootstrap(data, np.mean, confidence_level=0.95,\n",
    "                         random_state=0, method='percentile')\n",
    "\n",
    "#view 95% boostrapped confidence interval\n",
    "print(bootstrap_ci.confidence_interval)"
   ]
  },
  {
   "cell_type": "code",
   "execution_count": 41,
   "id": "579d501d-37e1-4052-b497-950f6fd06097",
   "metadata": {},
   "outputs": [
    {
     "data": {
      "text/plain": [
       "BootstrapResult(confidence_interval=ConfidenceInterval(low=12.933333333333334, high=17.666666666666668), standard_error=1.2305852740208936)"
      ]
     },
     "execution_count": 41,
     "metadata": {},
     "output_type": "execute_result"
    }
   ],
   "source": [
    "bootstrap_ci"
   ]
  },
  {
   "cell_type": "code",
   "execution_count": 17,
   "id": "9dbca570-557f-4bcd-a5a8-fbccc6d34a5c",
   "metadata": {},
   "outputs": [
    {
     "data": {
      "text/plain": [
       "15.319453333333332"
      ]
     },
     "execution_count": 17,
     "metadata": {},
     "output_type": "execute_result"
    }
   ],
   "source": []
  },
  {
   "cell_type": "code",
   "execution_count": 61,
   "id": "3af32780-4722-454e-94cf-ef1b6eb2c4ff",
   "metadata": {},
   "outputs": [
    {
     "data": {
      "text/plain": [
       "(15.317914276431207, 15.320992390235457)"
      ]
     },
     "execution_count": 61,
     "metadata": {},
     "output_type": "execute_result"
    }
   ],
   "source": [
    "# create 95% confidence interval\n",
    "st.norm.interval(alpha=0.1,\n",
    "                 loc=np.mean(sample_mean),\n",
    "                 scale=st.sem(sample_mean))"
   ]
  },
  {
   "cell_type": "code",
   "execution_count": 62,
   "id": "4768d3b2-dc78-4a46-b855-23f433a3946b",
   "metadata": {},
   "outputs": [
    {
     "data": {
      "image/png": "[encoded data removed]",
      "text/plain": [
       "<Figure size 576x432 with 1 Axes>"
      ]
     },
     "metadata": {},
     "output_type": "display_data"
    }
   ],
   "source": [
    "fig, ax = plt.subplots(figsize=(8, 6))\n",
    "plt.hist(sample_mean, bins=50)\n",
    "plt.show()"
   ]
  },
  {
   "cell_type": "code",
   "execution_count": 63,
   "id": "6d4eb2e3-3ed1-4e40-8de6-0f6bc69c8edf",
   "metadata": {},
   "outputs": [
    {
     "data": {
      "text/plain": [
       "100"
      ]
     },
     "execution_count": 63,
     "metadata": {},
     "output_type": "execute_result"
    }
   ],
   "source": [
    "int(np.sqrt(len(sample_mean)))"
   ]
  },
  {
   "cell_type": "code",
   "execution_count": 64,
   "id": "64915a27-79a2-4a61-83ed-a6f43b7c2fd1",
   "metadata": {},
   "outputs": [
    {
     "data": {
      "text/plain": [
       "15.309043346587282"
      ]
     },
     "execution_count": 64,
     "metadata": {},
     "output_type": "execute_result"
    }
   ],
   "source": [
    "np.mean(sample_mean) - .85 * np.std(sample_mean) / np.sqrt(len(sample_mean))"
   ]
  },
  {
   "cell_type": "code",
   "execution_count": 65,
   "id": "591385a9-3b37-4f0d-a280-5a399d9dfe6d",
   "metadata": {},
   "outputs": [
    {
     "data": {
      "text/plain": [
       "15.329863320079381"
      ]
     },
     "execution_count": 65,
     "metadata": {},
     "output_type": "execute_result"
    }
   ],
   "source": [
    "np.mean(sample_mean) + .85 * np.std(sample_mean) / np.sqrt(len(sample_mean))"
   ]
  },
  {
   "cell_type": "code",
   "execution_count": 68,
   "id": "d86325b7-6557-4ce7-94ab-11fd5a4f61bc",
   "metadata": {},
   "outputs": [
    {
     "data": {
      "text/plain": [
       "array([12.93333333, 17.73333333])"
      ]
     },
     "execution_count": 68,
     "metadata": {},
     "output_type": "execute_result"
    }
   ],
   "source": []
  },
  {
   "cell_type": "code",
   "execution_count": null,
   "id": "8603d903-47ad-4362-a9eb-03f4ab7c02aa",
   "metadata": {},
   "outputs": [],
   "source": []
  }
 ],
 "metadata": {
  "kernelspec": {
   "display_name": "tcc",
   "language": "python",
   "name": "tcc"
  },
  "language_info": {
   "codemirror_mode": {
    "name": "ipython",
    "version": 3
   },
   "file_extension": ".py",
   "mimetype": "text/x-python",
   "name": "python",
   "nbconvert_exporter": "python",
   "pygments_lexer": "ipython3",
   "version": "3.10.4"
  }
 },
 "nbformat": 4,
 "nbformat_minor": 5
}
