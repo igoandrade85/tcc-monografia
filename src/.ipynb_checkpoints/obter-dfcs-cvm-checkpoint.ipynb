{
 "cells": [
  {
   "cell_type": "markdown",
   "id": "ad866a38-631a-4723-ac86-3124f892b91b",
   "metadata": {},
   "source": [
    "# _Download_ das Demonstrações Financeiras das empresas listadas na Bolsa B3"
   ]
  },
  {
   "cell_type": "markdown",
   "id": "6add29ca-30bf-4d08-9044-6eaf4044e653",
   "metadata": {},
   "source": [
    "__Base de dados:__\n",
    "\n",
    "Dados CVM: https://dados.cvm.gov.br/\n",
    "\n",
    "Formulário de Informações Trimestrais (ITR): https://dados.cvm.gov.br/dataset/cia_aberta-doc-itr\n",
    "\n",
    "Histórico desde 2011: https://dados.cvm.gov.br/dados/CIA_ABERTA/DOC/ITR/DADOS/"
   ]
  },
  {
   "cell_type": "code",
   "execution_count": 1,
   "id": "554058c9-6708-4345-84e5-1d839ec1e244",
   "metadata": {},
   "outputs": [],
   "source": [
    "database_url = 'https://dados.cvm.gov.br/dados/CIA_ABERTA/DOC/ITR/DADOS/'"
   ]
  },
  {
   "cell_type": "markdown",
   "id": "8106b468-9bb1-4c44-bd04-4e6d94e427e6",
   "metadata": {},
   "source": [
    "__Bibliotecas importadas:__"
   ]
  },
  {
   "cell_type": "code",
   "execution_count": 2,
   "id": "80a51fa6-989b-4002-a18c-3f4387138565",
   "metadata": {},
   "outputs": [],
   "source": [
    "import os\n",
    "import requests\n",
    "import wget\n",
    "import pandas as pd\n",
    "from zipfile import ZipFile\n",
    "from bs4 import BeautifulSoup"
   ]
  },
  {
   "cell_type": "code",
   "execution_count": 3,
   "id": "859be0f1-2c38-4823-b932-767e14ad13ea",
   "metadata": {},
   "outputs": [],
   "source": [
    "ROOT_DIR = os.getcwd().replace('src', '')"
   ]
  },
  {
   "cell_type": "code",
   "execution_count": 4,
   "id": "4ef05d9e-d1bd-41f2-add8-a6dc5e7fa519",
   "metadata": {},
   "outputs": [],
   "source": [
    "page = requests.get(database_url)\n",
    "soup = BeautifulSoup(page.text, 'html.parser')"
   ]
  },
  {
   "cell_type": "code",
   "execution_count": 5,
   "id": "8511b768-90e1-4ff7-b902-c28e70809ee3",
   "metadata": {},
   "outputs": [
    {
     "name": "stdout",
     "output_type": "stream",
     "text": [
      "100% [....................................................] 19771547 / 19771547"
     ]
    }
   ],
   "source": [
    "pre = soup.find('pre')\n",
    "arquivos_zip = [a['href'] for a in pre.find_all('a')[1:]]\n",
    "zips_dir = os.path.join(ROOT_DIR, 'data', 'dfcs', 'tmp', 'zips')\n",
    "for arquivo in arquivos_zip:\n",
    "    wget.download(database_url + arquivo, zips_dir)"
   ]
  },
  {
   "cell_type": "code",
   "execution_count": 6,
   "id": "48f03e85-2254-42cd-997b-b076db4dfbce",
   "metadata": {},
   "outputs": [],
   "source": [
    "csvs_dir = os.path.join(ROOT_DIR, 'data', 'dfcs', 'tmp', 'csvs')\n",
    "for arquivo in arquivos_zip:\n",
    "    ZipFile(os.path.join(zips_dir, arquivo), 'r').extractall(csvs_dir)"
   ]
  },
  {
   "cell_type": "code",
   "execution_count": 7,
   "id": "7acd50ee-7d16-4bfc-9e48-6213a2042cee",
   "metadata": {},
   "outputs": [],
   "source": [
    "nomes = ['BPA_con', 'BPP_con', 'DRE_con']\n",
    "for nome in nomes:\n",
    "    arquivo = pd.DataFrame()\n",
    "    for ano in range(2018, 2022):\n",
    "        df = pd.read_csv(os.path.join(csvs_dir, f'itr_cia_aberta_{nome}_{ano}.csv'), sep=';', decimal=',', encoding='ISO-8859-1')\n",
    "        arquivo = pd.concat([arquivo, df])\n",
    "    arquivo.to_csv(os.path.join(ROOT_DIR, 'data', 'dfcs', f'itr_cia_aberta_{nome}_2028-2021.csv'), index=False)"
   ]
  }
 ],
 "metadata": {
  "kernelspec": {
   "display_name": "tcc",
   "language": "python",
   "name": "tcc"
  },
  "language_info": {
   "codemirror_mode": {
    "name": "ipython",
    "version": 3
   },
   "file_extension": ".py",
   "mimetype": "text/x-python",
   "name": "python",
   "nbconvert_exporter": "python",
   "pygments_lexer": "ipython3",
   "version": "3.10.4"
  }
 },
 "nbformat": 4,
 "nbformat_minor": 5
}
