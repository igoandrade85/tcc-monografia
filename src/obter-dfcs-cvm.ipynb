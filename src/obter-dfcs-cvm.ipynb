{
 "cells": [
  {
   "cell_type": "markdown",
   "id": "ad866a38-631a-4723-ac86-3124f892b91b",
   "metadata": {},
   "source": [
    "# _Download_ das Demonstrações Financeiras das empresas listadas na Bolsa B3"
   ]
  },
  {
   "cell_type": "markdown",
   "id": "6add29ca-30bf-4d08-9044-6eaf4044e653",
   "metadata": {},
   "source": [
    "__Base de dados:__\n",
    "\n",
    "Dados CVM: https://dados.cvm.gov.br/\n",
    "\n",
    "Formulário de Informações Trimestrais (ITR): https://dados.cvm.gov.br/dataset/cia_aberta-doc-itr\n",
    "\n",
    "Histórico desde 2011: \n",
    "\n",
    "- ITR: https://dados.cvm.gov.br/dados/CIA_ABERTA/DOC/ITR/DADOS/\n",
    "- DFP: https://dados.cvm.gov.br/dados/CIA_ABERTA/DOC/DFP/DADOS/"
   ]
  },
  {
   "cell_type": "markdown",
   "id": "8106b468-9bb1-4c44-bd04-4e6d94e427e6",
   "metadata": {},
   "source": [
    "__Bibliotecas importadas:__"
   ]
  },
  {
   "cell_type": "code",
   "execution_count": 2,
   "id": "80a51fa6-989b-4002-a18c-3f4387138565",
   "metadata": {},
   "outputs": [],
   "source": [
    "import os\n",
    "import requests\n",
    "import wget\n",
    "import pandas as pd\n",
    "from zipfile import ZipFile\n",
    "from bs4 import BeautifulSoup"
   ]
  },
  {
   "cell_type": "code",
   "execution_count": 3,
   "id": "859be0f1-2c38-4823-b932-767e14ad13ea",
   "metadata": {},
   "outputs": [],
   "source": [
    "ROOT_DIR = os.getcwd().replace('src', '')\n",
    "zips_dir = os.path.join(ROOT_DIR, 'data', 'dfcs', 'tmp', 'zips')\n",
    "csvs_dir = os.path.join(ROOT_DIR, 'data', 'dfcs', 'tmp', 'csvs')"
   ]
  },
  {
   "cell_type": "code",
   "execution_count": 4,
   "id": "fa592db1-d42a-4429-bec7-d9979bfa6977",
   "metadata": {},
   "outputs": [
    {
     "name": "stdout",
     "output_type": "stream",
     "text": [
      "100% [........................................................] 244725 / 244725"
     ]
    }
   ],
   "source": [
    "for tipo in ['itr', 'dfp']:\n",
    "    database_url = f'https://dados.cvm.gov.br/dados/CIA_ABERTA/DOC/{tipo.upper()}/DADOS/'\n",
    "    page = requests.get(database_url)\n",
    "    soup = BeautifulSoup(page.text, 'html.parser')\n",
    "    pre = soup.find('pre')\n",
    "    arquivos_zip = [a['href'] for a in pre.find_all('a')[1:]]\n",
    "    zips_dir = os.path.join(ROOT_DIR, 'data', 'dfcs', 'tmp', 'zips')\n",
    "    for arquivo in arquivos_zip:\n",
    "        wget.download(database_url + arquivo, zips_dir)\n",
    "        ZipFile(os.path.join(zips_dir, arquivo), 'r').extractall(csvs_dir)"
   ]
  },
  {
   "cell_type": "code",
   "execution_count": 7,
   "id": "17b28ed0-8a4e-4321-80d5-9bdb7adf7c32",
   "metadata": {},
   "outputs": [],
   "source": [
    "for tipo in ['itr', 'dfp']:\n",
    "    nomes = ['BPA_con', 'BPP_con', 'DRE_con']\n",
    "    for nome in nomes:\n",
    "        arquivo = pd.DataFrame()\n",
    "        ini, fim = 2017, 2021\n",
    "        for ano in range(ini, fim + 1):\n",
    "            df = pd.read_csv(os.path.join(csvs_dir, f'{tipo}_cia_aberta_{nome}_{ano}.csv'), sep=';', decimal=',', encoding='ISO-8859-1')\n",
    "            arquivo = pd.concat([arquivo, df])\n",
    "        arquivo.to_csv(os.path.join(ROOT_DIR, 'data', 'dfcs', f'{tipo}_cia_aberta_{nome}_{ini}-{fim}.csv'), index=False)"
   ]
  },
  {
   "cell_type": "code",
   "execution_count": null,
   "id": "ea1efe2e-ad88-4a0b-a135-514539a1412e",
   "metadata": {},
   "outputs": [],
   "source": []
  }
 ],
 "metadata": {
  "kernelspec": {
   "display_name": "tcc",
   "language": "python",
   "name": "tcc"
  },
  "language_info": {
   "codemirror_mode": {
    "name": "ipython",
    "version": 3
   },
   "file_extension": ".py",
   "mimetype": "text/x-python",
   "name": "python",
   "nbconvert_exporter": "python",
   "pygments_lexer": "ipython3",
   "version": "3.10.4"
  }
 },
 "nbformat": 4,
 "nbformat_minor": 5
}
